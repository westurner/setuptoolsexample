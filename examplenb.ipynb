{
 "cells": [
  {
   "cell_type": "markdown",
   "metadata": {},
   "source": [
    "# Python packaging, setup.py, console_scripts entrypoints, and \\_\\_main__.py\n",
    "\n",
    "- Source:  \n",
    "  https://github.com/westurner/setuptoolsexample\n",
    "- Read-only GitHub notebook view:  \n",
    "  https://github.com/westurner/setuptoolsexample/blob/master/examplenb.ipynb\n",
    "- Read-only Nbviewer notebook view:  \n",
    "  https://nbviewer.jupyter.org/github/westurner/setuptoolsexample/blob/master/examplenb.ipynb\n",
    "- Read/Write mybinder.org (BinderHub (repo2docker)) notebook:  \n",
    "  https://mybinder.org/v2/gh/westurner/setuptoolsexample/master?filepath=examplenb.ipynb\n",
    "\n",
    "References:\n",
    "- https://python-packaging.readthedocs.io/en/latest/command-line-scripts.html#the-console-scripts-entry-point"
   ]
  },
  {
   "cell_type": "code",
   "execution_count": 1,
   "metadata": {},
   "outputs": [
    {
     "name": "stdout",
     "output_type": "stream",
     "text": [
      "examplenb.ipynb  requirements.txt  setup.py\r\n",
      "\r\n",
      "example:\r\n",
      "__init__.py  __main__.py  __pycache__  thecode.py\r\n"
     ]
    }
   ],
   "source": [
    "!ls **"
   ]
  },
  {
   "cell_type": "code",
   "execution_count": 2,
   "metadata": {},
   "outputs": [
    {
     "name": "stdout",
     "output_type": "stream",
     "text": [
      "\r\n",
      "from setuptools import setup\r\n",
      "\r\n",
      "setup(name='example',\r\n",
      "      version='0.1',\r\n",
      "      description='Example',\r\n",
      "      url='http://github.com/.../...',\r\n",
      "      author='Example',\r\n",
      "      author_email='example@example.com',\r\n",
      "      license='...',\r\n",
      "      packages=['example'],\r\n",
      "      zip_safe=False,\r\n",
      "      entry_points={\r\n",
      "          'console_scripts': [\r\n",
      "              'example = example.thecode:main'\r\n",
      "          ]}\r\n",
      "      )\r\n"
     ]
    }
   ],
   "source": [
    "!cat setup.py"
   ]
  },
  {
   "cell_type": "code",
   "execution_count": 3,
   "metadata": {},
   "outputs": [
    {
     "name": "stdout",
     "output_type": "stream",
     "text": [
      "\r\n",
      "import sys\r\n",
      "\r\n",
      "def main(argv=None):\r\n",
      "    if argv is None:\r\n",
      "        argv = sys.argv\r\n",
      "    print(\"argparse here\", argv)\r\n"
     ]
    }
   ],
   "source": [
    "!cat example/thecode.py"
   ]
  },
  {
   "cell_type": "code",
   "execution_count": 4,
   "metadata": {},
   "outputs": [
    {
     "name": "stdout",
     "output_type": "stream",
     "text": [
      "\r\n",
      "import sys\r\n",
      "\r\n",
      "from .thecode import main\r\n",
      "\r\n",
      "def othermain():\r\n",
      "    print(\"othermain\")\r\n",
      "    return main(sys.argv)\r\n",
      "\r\n",
      "if __name__ == \"__main__\":\r\n",
      "    othermain()\r\n"
     ]
    }
   ],
   "source": [
    "!cat example/__main__.py"
   ]
  },
  {
   "cell_type": "code",
   "execution_count": 5,
   "metadata": {},
   "outputs": [
    {
     "name": "stdout",
     "output_type": "stream",
     "text": [
      "-e .\r\n"
     ]
    }
   ],
   "source": [
    "!cat ./requirements.txt"
   ]
  },
  {
   "cell_type": "code",
   "execution_count": 6,
   "metadata": {},
   "outputs": [
    {
     "name": "stdout",
     "output_type": "stream",
     "text": [
      "Obtaining file:///home/wturner/-wrk/-ve37/sexample/src/sexample (from -r ./requirements.txt (line 1))\n",
      "Installing collected packages: example\n",
      "  Found existing installation: example 0.1\n",
      "    Uninstalling example-0.1:\n",
      "      Successfully uninstalled example-0.1\n",
      "  Running setup.py develop for example\n",
      "Successfully installed example\n"
     ]
    }
   ],
   "source": [
    "!pip install -r ./requirements.txt\n",
    "# (this is equivalent to `pip install -e .`)"
   ]
  },
  {
   "cell_type": "code",
   "execution_count": 7,
   "metadata": {},
   "outputs": [
    {
     "name": "stdout",
     "output_type": "stream",
     "text": [
      "examplenb.ipynb  requirements.txt  setup.py\r\n",
      "\r\n",
      "example:\r\n",
      "__init__.py  __main__.py  __pycache__  thecode.py\r\n",
      "\r\n",
      "example.egg-info:\r\n",
      "dependency_links.txt  not-zip-safe  SOURCES.txt\r\n",
      "entry_points.txt      PKG-INFO\t    top_level.txt\r\n"
     ]
    }
   ],
   "source": [
    "!ls **"
   ]
  },
  {
   "cell_type": "code",
   "execution_count": 8,
   "metadata": {},
   "outputs": [
    {
     "name": "stdout",
     "output_type": "stream",
     "text": [
      "[console_scripts]\r\n",
      "example = example.thecode:main\r\n",
      "\r\n"
     ]
    }
   ],
   "source": [
    "# This is generated when you `pip install -e`\n",
    "!cat ./example.egg-info/entry_points.txt"
   ]
  },
  {
   "cell_type": "code",
   "execution_count": 9,
   "metadata": {},
   "outputs": [
    {
     "name": "stdout",
     "output_type": "stream",
     "text": [
      "activate\t  jsonschema\t\t    pip3\r\n",
      "activate.csh\t  jupyter\t\t    pip3.7\r\n",
      "activate.fish\t  jupyter-bundlerextension  postactivate\r\n",
      "activate.ps1\t  jupyter-kernel\t    postdeactivate\r\n",
      "activate_this.py  jupyter-kernelspec\t    preactivate\r\n",
      "activate.xsh\t  jupyter-migrate\t    predeactivate\r\n",
      "easy_install\t  jupyter-nbconvert\t    pygmentize\r\n",
      "easy_install-3.7  jupyter-nbextension\t    python\r\n",
      "example\t\t  jupyter-notebook\t    python3\r\n",
      "get_env_details   jupyter-run\t\t    python3.7\r\n",
      "iptest\t\t  jupyter-serverextension   python-config\r\n",
      "iptest3\t\t  jupyter-troubleshoot\t    wheel\r\n",
      "ipython\t\t  jupyter-trust\r\n",
      "ipython3\t  pip\r\n"
     ]
    }
   ],
   "source": [
    "!ls ../../bin/"
   ]
  },
  {
   "cell_type": "code",
   "execution_count": 10,
   "metadata": {},
   "outputs": [
    {
     "name": "stdout",
     "output_type": "stream",
     "text": [
      "#!/home/wturner/-wrk/-ve37/sexample/bin/python3\r\n",
      "# EASY-INSTALL-ENTRY-SCRIPT: 'example','console_scripts','example'\r\n",
      "__requires__ = 'example'\r\n",
      "import re\r\n",
      "import sys\r\n",
      "from pkg_resources import load_entry_point\r\n",
      "\r\n",
      "if __name__ == '__main__':\r\n",
      "    sys.argv[0] = re.sub(r'(-script\\.pyw?|\\.exe)?$', '', sys.argv[0])\r\n",
      "    sys.exit(\r\n",
      "        load_entry_point('example', 'console_scripts', 'example')()\r\n",
      "    )\r\n"
     ]
    }
   ],
   "source": [
    "!cat ../../bin/example"
   ]
  },
  {
   "cell_type": "code",
   "execution_count": 11,
   "metadata": {},
   "outputs": [
    {
     "name": "stdout",
     "output_type": "stream",
     "text": [
      "argparse here ['/home/wturner/-wrk/-ve37/sexample/bin/example']\r\n"
     ]
    }
   ],
   "source": [
    "# this runs the 'example' console_scripts entry_point\n",
    "!example"
   ]
  },
  {
   "cell_type": "code",
   "execution_count": 12,
   "metadata": {},
   "outputs": [
    {
     "name": "stdout",
     "output_type": "stream",
     "text": [
      "othermain\r\n",
      "argparse here ['/home/wturner/-wrk/-ve37/sexample/src/sexample/example/__main__.py']\r\n"
     ]
    }
   ],
   "source": [
    "# this runs example/__main__\n",
    "!python -m example"
   ]
  },
  {
   "cell_type": "markdown",
   "metadata": {},
   "source": [
    "## Note regarding Reproducibility\n",
    "\n",
    "When you want the project to be reproducible:\n",
    "\n",
    "- you have tests (eg in tests/)\n",
    "- you have a requirements.txt that lists exact versions of all\n",
    "    dependencies\n",
    "- you build the entire environment (including any requisite OS packages)\n",
    "  from zero (with a virtualenv and/or docker), then run the tests\n",
    "\n",
    "There are a number of cookiecutters (project templates)\n",
    "which have the whole project setup:\n",
    "\n",
    "- https://cookiecutter.readthedocs.io/en/latest/readme.html#available-cookiecutters\n",
    "- cookiecutter-pypackage includes pytest setup\n",
    "- https://cookiecutter.readthedocs.io/en/latest/readme.html#data-science\n",
    "- https://cookiecutter.readthedocs.io/en/latest/readme.html#reproducible-science\n",
    "\n",
    "I prepared this as a Jupyter notebook, then did 'Save as' > 'Markdown'.\n",
    "Because it has a requirements.txt, if I put this code in a git repo\n",
    "and launch it in\n",
    "https://mybinder.org (BinderHub (repo2docker)), it will build a docker container (also\n",
    "containing jupyter)\n",
    "and launch a free cloud instance; so that others can review the code\n",
    "and notebooks\n",
    "in a read/write environment (where changes are not persisted because\n",
    "the instance is later just deleted)\n",
    "\n",
    "- REES: Reproducible Environment Specification\n",
    "  https://repo2docker.readthedocs.io/en/latest/specification.html\n",
    "\n",
    "  - environment.yml - Install a Python environment\n",
    "  - Pipfile and/or Pipfile.lock - Install a Python environment\n",
    "  - requirements.txt - Install a Python environment\n",
    "  - setup.py - Install Python packages\n",
    "  - Project.toml - Install a Julia environment\n",
    "  - REQUIRE - Install a Julia environment (legacy)\n",
    "  - install.R - Install an R/RStudio environment\n",
    "  - apt.txt - Install packages with apt-get\n",
    "  - DESCRIPTION - Install an R package\n",
    "  - manifest.xml - Install Stencila\n",
    "  - postBuild - Run code after installing the environment\n",
    "  - start - Run code before the user sessions starts\n",
    "  - runtime.txt - Specifying runtimes\n",
    "  - default.nix - the nix package manager\n",
    "  - Dockerfile - Advanced environments"
   ]
  }
 ],
 "metadata": {
  "kernelspec": {
   "display_name": "Python 3",
   "language": "python",
   "name": "python3"
  },
  "language_info": {
   "codemirror_mode": {
    "name": "ipython",
    "version": 3
   },
   "file_extension": ".py",
   "mimetype": "text/x-python",
   "name": "python",
   "nbconvert_exporter": "python",
   "pygments_lexer": "ipython3",
   "version": "3.7.4"
  }
 },
 "nbformat": 4,
 "nbformat_minor": 2
}
